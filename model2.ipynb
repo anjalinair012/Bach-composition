{
 "cells": [
  {
   "cell_type": "code",
   "execution_count": 22,
   "metadata": {},
   "outputs": [],
   "source": [
    "import numpy as np\n",
    "import IPython.display as ipd\n",
    "import math\n",
    "import pandas as pd"
   ]
  },
  {
   "cell_type": "code",
   "execution_count": 23,
   "metadata": {},
   "outputs": [],
   "source": [
    "#reading file\n",
    "data = pd.read_csv(r\"C:\\Uni\\ML\\Bach\\F.txt\", delimiter = \"\\t\", names = [\"V1\", \"V2\", \"V3\", \"V4\"])\n",
    "voices = [\"V1\", \"V2\", \"V3\", \"V4\"]"
   ]
  },
  {
   "cell_type": "code",
   "execution_count": 24,
   "metadata": {},
   "outputs": [],
   "source": [
    "#uniq_pitchn stores all the unique pitches in a voice.\n",
    "#Vn_dict stores a dictionary which maps each pitch to a continuous range of indexes\n",
    "uniq_pitch1=data[\"V1\"].unique()\n",
    "V1_dict={k: v for v, k in enumerate(uniq_pitch1)}\n",
    "uniq_pitch2=data[\"V2\"].unique()\n",
    "V2_dict={k: v for v, k in enumerate(uniq_pitch2)}\n",
    "uniq_pitch3=data[\"V3\"].unique()\n",
    "V3_dict={k: v for v, k in enumerate(uniq_pitch3)}\n",
    "\n",
    "uniq_pitch4=data[\"V4\"].unique()\n",
    "V4_dict={k: v for v, k in enumerate(uniq_pitch4)}"
   ]
  },
  {
   "cell_type": "code",
   "execution_count": 25,
   "metadata": {},
   "outputs": [],
   "source": [
    "#The transition matrix gives probabilities of transition from one hidden state to the next\n",
    "def Transition_matrix(v,pitch_dict):\n",
    "    Transition=np.zeros([len(pitch_dict),len(pitch_dict)]) #create empty transition matrix\n",
    "    for index,pitch in enumerate(data[v]):\n",
    "        if index<(len(data[v])-1):\n",
    "            #Transition[i][j] indicates the probability of transition from i to j. Every time this transition is encountered, incremet by 1\n",
    "            Transition[pitch_dict[pitch]][pitch_dict[data[v][index+1]]]=Transition[pitch_dict[pitch]][pitch_dict[data[v][index+1]]]+1\n",
    "    #convert the counts to probabilities\n",
    "    for i in range(0,len(Transition)):\n",
    "        s=sum(Transition[i])\n",
    "        for j in range(0,len(Transition[i])):\n",
    "            Transition[i][j]=Transition[i][j]/s\n",
    "    return Transition"
   ]
  },
  {
   "cell_type": "code",
   "execution_count": 27,
   "metadata": {},
   "outputs": [],
   "source": [
    "Transition_V1=Transition_matrix(\"V1\",V1_dict)\n",
    "Transition_V1=Transition_V1.tolist()\n",
    "\n",
    "Transition_V2=Transition_matrix(\"V2\",V2_dict)\n",
    "Transition_V2=Transition_V2.tolist()\n",
    "\n",
    "Transition_V3=Transition_matrix(\"V3\",V3_dict)\n",
    "Transition_V3=Transition_V3.tolist()\n",
    "\n",
    "#a unigram window matrix for v4 is created for special case as explained below\n",
    "prob_V4=Transition_matrix(\"V4\",V4_dict)\n",
    "prob_V4=prob_V4.tolist()"
   ]
  },
  {
   "cell_type": "code",
   "execution_count": 28,
   "metadata": {},
   "outputs": [],
   "source": [
    "uniq_pitch4=data[\"V4\"].unique()\n",
    "#get all unique chords, i.e combination of V1,V2,V3\n",
    "uniq_rows=data.drop([\"V4\"],axis=1).drop_duplicates()\n",
    "chord_list=uniq_rows.values.tolist()"
   ]
  },
  {
   "cell_type": "code",
   "execution_count": 29,
   "metadata": {},
   "outputs": [],
   "source": [
    "#create the emission matrix which gives probability of an observable based on the hidden state.\n",
    "Emission=np.zeros([len(chord_list),len(uniq_pitch4)])\n",
    "for i,row in data.iterrows():\n",
    "    #Emission[i][j] gives the probability of hidden state i producing an observable j.Every time this emission is encountered, incremet by 1\n",
    "    Emission[chord_list.index([row[\"V1\"],row[\"V2\"],row[\"V3\"]])][V4_dict[row[\"V4\"]]]=Emission[chord_list.index([row[\"V1\"],row[\"V2\"],row[\"V3\"]])][V4_dict[row[\"V4\"]]]+1"
   ]
  },
  {
   "cell_type": "code",
   "execution_count": 30,
   "metadata": {},
   "outputs": [],
   "source": [
    "#convert counts to probabilities\n",
    "for i in range(0,len(Emission)):\n",
    "    Emission[i]=Emission[i]/sum(Emission[i])"
   ]
  },
  {
   "cell_type": "code",
   "execution_count": 31,
   "metadata": {},
   "outputs": [],
   "source": [
    "Emission=Emission.tolist()"
   ]
  },
  {
   "cell_type": "code",
   "execution_count": 61,
   "metadata": {},
   "outputs": [],
   "source": [
    "count=1\n",
    "exe=0\n",
    "data_pred=pd.DataFrame(columns=voices)\n",
    "#store the last row pitches of the dataset\n",
    "prev_p1=data[\"V1\"][len(data)-1]\n",
    "prev_p2=data[\"V2\"][len(data)-1]\n",
    "prev_p3=data[\"V3\"][len(data)-1]\n",
    "prev_p4=data[\"V4\"][len(data)-1]\n",
    "\n",
    "chord_list_str=[str(i) for i in chord_list]\n",
    "while(count<300):\n",
    "    #predict the hidden states\n",
    "    hidden_p1=int(np.random.choice(uniq_pitch1,1,p=Transition_V1[V1_dict[int(prev_p1)]]))\n",
    "    hidden_p2=int(np.random.choice(uniq_pitch2,1,p=Transition_V2[V2_dict[int(prev_p2)]]))\n",
    "    hidden_p3=int(np.random.choice(uniq_pitch3,1,p=Transition_V3[V3_dict[int(prev_p3)]]))\n",
    "    #the hidden states are combined to form a \"chord\"\n",
    "    chords=[hidden_p1,hidden_p1,hidden_p1]\n",
    "    \n",
    "    if chords not in chord_list:\n",
    "        #if there is not emission probability for the chord, V4 is predicted as in a unigram markov chain.exe incremented with every such pseudo random step\n",
    "        exe=exe+1\n",
    "        obs_p4=int(np.random.choice(uniq_pitch4,1,p=prob_V4[V4_dict[int(prev_p4)]]))\n",
    "    else:\n",
    "        #if chord exists, V4 is the observable produced by the hidden state chord\n",
    "        obs_p4=int(np.random.choice(uniq_pitch4,1,p=Emission[chord_list.index(chords)]))\n",
    "    \n",
    "    #add the prediction\n",
    "    data_pred.loc[len(data_pred)]=[hidden_p1,hidden_p2,hidden_p3,obs_p4]\n",
    "    count=count+1\n",
    "    \n",
    "    prev_p1=hidden_p1\n",
    "    prev_p2=hidden_p2\n",
    "    prev_p3=hidden_p3\n",
    "    prev_p4=obs_p4"
   ]
  },
  {
   "cell_type": "code",
   "execution_count": 62,
   "metadata": {},
   "outputs": [
    {
     "data": {
      "text/plain": [
       "0.0"
      ]
     },
     "execution_count": 62,
     "metadata": {},
     "output_type": "execute_result"
    }
   ],
   "source": [
    "# a vague indicator of randomness\n",
    "exe/count"
   ]
  },
  {
   "cell_type": "code",
   "execution_count": 63,
   "metadata": {},
   "outputs": [],
   "source": [
    "data_final=data.append(data_pred,ignore_index=\"True\")"
   ]
  },
  {
   "cell_type": "code",
   "execution_count": 64,
   "metadata": {},
   "outputs": [],
   "source": [
    "data_final.to_csv(\"model2_lowRand.csv\",sep=\"\\t\",header=False,index=False)"
   ]
  }
 ],
 "metadata": {
  "kernelspec": {
   "display_name": "Python 3",
   "language": "python",
   "name": "python3"
  },
  "language_info": {
   "codemirror_mode": {
    "name": "ipython",
    "version": 3
   },
   "file_extension": ".py",
   "mimetype": "text/x-python",
   "name": "python",
   "nbconvert_exporter": "python",
   "pygments_lexer": "ipython3",
   "version": "3.8.3"
  }
 },
 "nbformat": 4,
 "nbformat_minor": 4
}

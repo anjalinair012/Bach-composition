{
 "cells": [
  {
   "cell_type": "code",
   "execution_count": 1,
   "metadata": {},
   "outputs": [],
   "source": [
    "import pandas as pd\n",
    "from numpy import loadtxt\n",
    "import numpy as np\n",
    "#from hmmlearn.hmm import GaussianHMM\n",
    "import math\n",
    "from sklearn.cluster import KMeans\n",
    "import matplotlib.pyplot as plt\n",
    "import sounddevice as sd"
   ]
  },
  {
   "cell_type": "code",
   "execution_count": 2,
   "metadata": {},
   "outputs": [],
   "source": [
    "data = pd.read_csv(\"F.txt\", delimiter = \"\\t\", names = [\"V1\", \"V2\", \"V3\", \"V4\"])"
   ]
  },
  {
   "cell_type": "code",
   "execution_count": 3,
   "metadata": {},
   "outputs": [],
   "source": [
    "voices = [\"V1\", \"V2\", \"V3\", \"V4\"]\n",
    "for v in voices:\n",
    "    prev = 0\n",
    "    data[v+\"-Diff\"] = 0 #creating difference representations needed for clustering (according to Dirst)\n",
    "    for index, row in data.iterrows():\n",
    "        data[v+\"-Diff\"][index] = row[v] - prev\n",
    "        prev = row[v]"
   ]
  },
  {
   "cell_type": "code",
   "execution_count": 4,
   "metadata": {},
   "outputs": [
    {
     "data": {
      "text/html": [
       "<div>\n",
       "<style scoped>\n",
       "    .dataframe tbody tr th:only-of-type {\n",
       "        vertical-align: middle;\n",
       "    }\n",
       "\n",
       "    .dataframe tbody tr th {\n",
       "        vertical-align: top;\n",
       "    }\n",
       "\n",
       "    .dataframe thead th {\n",
       "        text-align: right;\n",
       "    }\n",
       "</style>\n",
       "<table border=\"1\" class=\"dataframe\">\n",
       "  <thead>\n",
       "    <tr style=\"text-align: right;\">\n",
       "      <th></th>\n",
       "      <th>V1</th>\n",
       "      <th>V2</th>\n",
       "      <th>V3</th>\n",
       "      <th>V4</th>\n",
       "      <th>V1-Diff</th>\n",
       "      <th>V2-Diff</th>\n",
       "      <th>V3-Diff</th>\n",
       "      <th>V4-Diff</th>\n",
       "    </tr>\n",
       "  </thead>\n",
       "  <tbody>\n",
       "    <tr>\n",
       "      <th>3819</th>\n",
       "      <td>0</td>\n",
       "      <td>0</td>\n",
       "      <td>49</td>\n",
       "      <td>0</td>\n",
       "      <td>0</td>\n",
       "      <td>0</td>\n",
       "      <td>0</td>\n",
       "      <td>0</td>\n",
       "    </tr>\n",
       "    <tr>\n",
       "      <th>3820</th>\n",
       "      <td>0</td>\n",
       "      <td>0</td>\n",
       "      <td>51</td>\n",
       "      <td>0</td>\n",
       "      <td>0</td>\n",
       "      <td>0</td>\n",
       "      <td>2</td>\n",
       "      <td>0</td>\n",
       "    </tr>\n",
       "    <tr>\n",
       "      <th>3821</th>\n",
       "      <td>0</td>\n",
       "      <td>0</td>\n",
       "      <td>51</td>\n",
       "      <td>0</td>\n",
       "      <td>0</td>\n",
       "      <td>0</td>\n",
       "      <td>0</td>\n",
       "      <td>0</td>\n",
       "    </tr>\n",
       "    <tr>\n",
       "      <th>3822</th>\n",
       "      <td>0</td>\n",
       "      <td>0</td>\n",
       "      <td>54</td>\n",
       "      <td>0</td>\n",
       "      <td>0</td>\n",
       "      <td>0</td>\n",
       "      <td>3</td>\n",
       "      <td>0</td>\n",
       "    </tr>\n",
       "    <tr>\n",
       "      <th>3823</th>\n",
       "      <td>0</td>\n",
       "      <td>0</td>\n",
       "      <td>54</td>\n",
       "      <td>0</td>\n",
       "      <td>0</td>\n",
       "      <td>0</td>\n",
       "      <td>0</td>\n",
       "      <td>0</td>\n",
       "    </tr>\n",
       "  </tbody>\n",
       "</table>\n",
       "</div>"
      ],
      "text/plain": [
       "      V1  V2  V3  V4  V1-Diff  V2-Diff  V3-Diff  V4-Diff\n",
       "3819   0   0  49   0        0        0        0        0\n",
       "3820   0   0  51   0        0        0        2        0\n",
       "3821   0   0  51   0        0        0        0        0\n",
       "3822   0   0  54   0        0        0        3        0\n",
       "3823   0   0  54   0        0        0        0        0"
      ]
     },
     "execution_count": 4,
     "metadata": {},
     "output_type": "execute_result"
    }
   ],
   "source": [
    "data.tail()"
   ]
  },
  {
   "cell_type": "code",
   "execution_count": 5,
   "metadata": {},
   "outputs": [],
   "source": [
    "voices_diff = [\"V1-Diff\", \"V2-Diff\", \"V3-Diff\", \"V4-Diff\"]\n",
    "voices_l = []\n",
    "\n",
    "for v in voices_diff:\n",
    "    #print(v)\n",
    "    voices_l.append(data[v].tolist())\n",
    "\n",
    "voices_l = [item for sublist in voices_l for item in sublist] #to flatten the list\n",
    "\n",
    "#len(set(voices_l)) #74 unique pitches"
   ]
  },
  {
   "cell_type": "code",
   "execution_count": 6,
   "metadata": {},
   "outputs": [],
   "source": [
    "window = 32\n",
    "X = np.empty((0,window), int)\n",
    "for i in range(0, len(voices_l), window):\n",
    "    X = np.vstack((X, voices_l[i:i+window]))"
   ]
  },
  {
   "cell_type": "code",
   "execution_count": 7,
   "metadata": {},
   "outputs": [
    {
     "data": {
      "text/plain": [
       "478"
      ]
     },
     "execution_count": 7,
     "metadata": {},
     "output_type": "execute_result"
    }
   ],
   "source": [
    "len(X)"
   ]
  },
  {
   "cell_type": "code",
   "execution_count": 8,
   "metadata": {},
   "outputs": [],
   "source": [
    "#source: https://jtemporal.com/kmeans-and-elbow-method/\n",
    "def calculate_wcss(data):\n",
    "    wcss = []\n",
    "    for n in range(2, 74):\n",
    "        kmeans = KMeans(n_clusters=n)\n",
    "        kmeans.fit(X=data)\n",
    "        wcss.append(kmeans.inertia_)\n",
    "   \n",
    "    return wcss\n",
    "\n",
    "#source: https://jtemporal.com/kmeans-and-elbow-method/\n",
    "def optimal_number_of_clusters(wcss):\n",
    "    x1, y1 = 2, wcss[0]\n",
    "    x2, y2 = 20, wcss[len(wcss)-1]\n",
    "\n",
    "    distances = []\n",
    "    for i in range(len(wcss)):\n",
    "        x0 = i+2\n",
    "        y0 = wcss[i]\n",
    "        numerator = abs((y2-y1)*x0 - (x2-x1)*y0 + x2*y1 - y2*x1)\n",
    "        denominator = math.sqrt((y2 - y1)**2 + (x2 - x1)**2)\n",
    "        distances.append(numerator/denominator)\n",
    "    \n",
    "    return distances.index(max(distances)) + 2"
   ]
  },
  {
   "cell_type": "code",
   "execution_count": 9,
   "metadata": {},
   "outputs": [],
   "source": [
    "#wcss = calculate_wcss(X)"
   ]
  },
  {
   "cell_type": "code",
   "execution_count": 10,
   "metadata": {},
   "outputs": [],
   "source": [
    "#n = optimal_number_of_clusters(wcss)\n",
    "# 73 ..."
   ]
  },
  {
   "cell_type": "code",
   "execution_count": 12,
   "metadata": {},
   "outputs": [],
   "source": [
    "#fig, axs = plt.subplots(figsize = (6,6))\n",
    "#axs.plot(wcss, '-o')"
   ]
  },
  {
   "cell_type": "code",
   "execution_count": 13,
   "metadata": {},
   "outputs": [],
   "source": [
    "kmeans = KMeans(n_clusters=40) #arbitrarily chosen...\n",
    "clusters = kmeans.fit_predict(X)"
   ]
  },
  {
   "cell_type": "code",
   "execution_count": 14,
   "metadata": {},
   "outputs": [
    {
     "data": {
      "text/plain": [
       "array([33, 33, 33, 33, 33, 33, 33,  4, 35, 33,  7,  7, 33, 33, 33, 33, 33,\n",
       "       33, 33, 33, 35, 33, 33, 34, 33, 33, 33, 35,  0, 36,  9, 35, 33,  7,\n",
       "       34, 33, 34, 33, 33, 34, 33, 33, 33, 35, 35, 33, 36, 35,  0, 33, 33,\n",
       "       33, 33, 34, 36, 35, 33,  5, 33, 33, 10, 36,  7, 33,  7, 32, 33, 33,\n",
       "        1, 33,  8,  7,  1, 10, 36,  7,  7,  0,  1, 33, 33, 33, 33, 33,  6,\n",
       "       33, 35, 33, 34, 33, 33, 34, 33, 35, 33, 35, 18, 33, 33, 33,  6, 33,\n",
       "       13,  7, 33, 36, 35, 33, 29, 33, 34, 32,  7, 23, 20, 33, 15, 33,  1,\n",
       "       33, 33, 33, 33, 33,  4, 35, 33,  7, 34, 34, 33, 33,  7, 33, 35, 33,\n",
       "       33, 33, 17, 33, 35, 33, 34, 33,  0, 33, 36, 33, 33, 33, 33, 36, 33,\n",
       "       33, 33,  7, 33, 35, 35, 34, 35, 33, 24, 35, 33, 33, 33, 35, 33, 35,\n",
       "       33,  0, 33, 39, 34, 33,  0, 36,  7,  7, 33, 32, 33, 36, 35,  0, 39,\n",
       "       28, 13,  1,  8,  0, 12, 33, 33, 33, 33, 10, 36,  7,  7,  7, 35, 32,\n",
       "       33, 35, 33, 35, 33, 16, 33, 33, 35, 12, 11, 12,  4, 33, 33, 28, 33,\n",
       "        1, 20, 33, 33,  9, 33, 33, 33, 33, 34, 33, 33, 33,  0, 21,  0, 33,\n",
       "        1, 33, 33, 31, 35, 33,  7, 34, 34, 33, 33, 12, 31, 35, 33,  7, 34,\n",
       "        7, 33, 34, 34, 34, 33, 33, 12, 33, 33, 33,  6, 33, 33, 34, 25,  7,\n",
       "        0, 18, 31,  7, 33, 35, 34, 34, 33,  7, 33, 33,  7, 33, 36, 17, 33,\n",
       "       35, 33, 33, 36, 33, 34,  0,  5, 33, 33, 33, 33, 33, 33, 33, 33, 33,\n",
       "       37, 36,  7, 33, 19, 11, 36,  0, 33, 32,  1,  6, 33, 32,  7,  5, 37,\n",
       "       36,  7,  0, 33, 35, 19, 27,  7, 35, 22, 11, 26, 33, 33, 28, 28, 33,\n",
       "       35,  0,  5, 31, 33, 33, 33, 13,  0, 33,  7, 33, 33, 34,  0,  5,  6,\n",
       "       33, 31, 35, 33,  7, 36, 33, 35, 33, 33, 18, 31,  7, 33, 35, 34,  3,\n",
       "       35, 34, 33, 33, 36, 35, 35, 33,  7, 36, 36,  0, 33, 34,  9, 35, 33,\n",
       "        7, 33, 34, 34, 33, 33, 34, 33, 33, 34, 18, 31, 35, 33,  7,  0, 33,\n",
       "       33, 33, 33, 35, 33,  7, 33, 22, 33, 33, 33, 33, 33, 33, 37, 36,  7,\n",
       "        3,  2, 32, 32,  3, 14, 33, 33, 33, 35, 30,  0,  0, 33, 35, 35, 35,\n",
       "        2, 35, 34, 33, 14, 22, 37, 36,  7,  7,  3,  2, 12, 33, 33, 33, 33,\n",
       "       31, 33,  3, 34, 34,  2, 34,  0, 33, 33, 38, 33, 14,  3, 35, 22,  6,\n",
       "       33, 22])"
      ]
     },
     "execution_count": 14,
     "metadata": {},
     "output_type": "execute_result"
    }
   ],
   "source": [
    "clusters #the clusters / (parts of) themes"
   ]
  },
  {
   "cell_type": "code",
   "execution_count": 15,
   "metadata": {},
   "outputs": [],
   "source": [
    "unique_clusters = np.unique(clusters)\n",
    "adjacent_clusters = dict()\n",
    "prev = False\n",
    "for c in unique_clusters:\n",
    "    c_dict = dict.fromkeys(unique_clusters,0)\n",
    "    for val in clusters:\n",
    "        if prev == c:\n",
    "            c_dict[val] += 1\n",
    "            \n",
    "        prev = val\n",
    "    \n",
    "    adjacent_clusters[c] = c_dict          "
   ]
  },
  {
   "cell_type": "code",
   "execution_count": 16,
   "metadata": {},
   "outputs": [],
   "source": [
    "Transition = []\n",
    "for i in range(len(adjacent_clusters)):\n",
    "    row = list(adjacent_clusters[i].values())\n",
    "    Transition.append(row)\n",
    "    \n",
    "for i in range(0,len(Transition)):\n",
    "    s=sum(Transition[i]) #sum of counts per row (i.e. per pitch)\n",
    "    for j in range(0,len(Transition[i])):\n",
    "        Transition[i][j]=Transition[i][j]/s #probability per column"
   ]
  },
  {
   "cell_type": "code",
   "execution_count": 17,
   "metadata": {},
   "outputs": [],
   "source": [
    "voices_x = []\n",
    "for v in voices:\n",
    "    voices_x.append(data[v].tolist())\n",
    "voices_x = [item for sublist in voices_x for item in sublist] #to flatten the list\n",
    "\n",
    "unique_windows = []\n",
    "Z = np.empty((0,window), int)\n",
    "for i in range(0, len(voices_x), window):\n",
    "    unique_windows.append(voices_x[i:i+window])\n",
    "    Z = np.vstack((Z, voices_x[i:i+window]))\n",
    "unique_windows = [list(x) for x in set(tuple(x) for x in unique_windows)]"
   ]
  },
  {
   "cell_type": "code",
   "execution_count": 18,
   "metadata": {},
   "outputs": [],
   "source": [
    "Emission=np.zeros([len(unique_clusters),len(unique_windows)])\n",
    "for i in unique_clusters:\n",
    "    indices = [x for x, c in enumerate(list(clusters)) if c == i] #get the indices per cluster\n",
    "    cl_windows = Z[indices] #windows per cluster\n",
    "    for clw in cl_windows:   \n",
    "        for cnt, w in enumerate(unique_windows):\n",
    "            if list(clw) == w: #increas\n",
    "                Emission[i][cnt] += 1\n",
    "\n",
    "for i in range(0,len(Emission)):\n",
    "    Emission[i]=Emission[i]/sum(Emission[i])"
   ]
  },
  {
   "cell_type": "code",
   "execution_count": 19,
   "metadata": {},
   "outputs": [],
   "source": [
    "obs_pred = []\n",
    "hid_pred = []\n",
    "count = 1\n",
    "offset = 0\n",
    "for v in voices:\n",
    "    v_pred = []\n",
    "    h_pred = []\n",
    "    start = len(data[v])//32 + offset #to figure out the initial hidden state\n",
    "    while(count<30):\n",
    "        \n",
    "        initial_state = clusters[start]\n",
    "        hidden_state = int(np.random.choice(unique_clusters,1,p=Transition[initial_state]))\n",
    "        \n",
    "        #random_index = np.random.choice(range(len(unique_windows)+1),1)\n",
    "        observable_state_index = np.random.choice(list(range(len(unique_windows))),p=Emission[hidden_state])\n",
    "        observable_state = unique_windows[observable_state_index]\n",
    "        \n",
    "        v_pred.append(observable_state)\n",
    "        h_pred.append(hidden_state)\n",
    "        \n",
    "        count += 1\n",
    "        \n",
    "    obs_pred.append(v_pred)\n",
    "    hid_pred.append(h_pred)\n",
    "        \n",
    "    offset += len(data[v])//32\n",
    "    \n",
    "    count = 1"
   ]
  },
  {
   "cell_type": "code",
   "execution_count": 20,
   "metadata": {
    "scrolled": true
   },
   "outputs": [],
   "source": [
    "data.drop(columns = [\"V1-Diff\", \"V2-Diff\", \"V3-Diff\", \"V4-Diff\"], inplace = True)"
   ]
  },
  {
   "cell_type": "code",
   "execution_count": 21,
   "metadata": {},
   "outputs": [],
   "source": [
    "data_pred = pd.DataFrame({\"V1\": [item for sublist in obs_pred[0] for item in sublist],\n",
    "                        \"V2\": [item for sublist in obs_pred[1] for item in sublist],\n",
    "                        \"V3\": [item for sublist in obs_pred[2] for item in sublist],\n",
    "                        \"V4\": [item for sublist in obs_pred[3] for item in sublist]})"
   ]
  },
  {
   "cell_type": "code",
   "execution_count": 22,
   "metadata": {},
   "outputs": [],
   "source": [
    "data_final=data.append(data_pred,ignore_index=\"True\")"
   ]
  },
  {
   "cell_type": "code",
   "execution_count": 23,
   "metadata": {},
   "outputs": [],
   "source": [
    "data_pred.to_csv(\"model_themes_pred.csv\",sep=\"\\t\",header=False,index=False)"
   ]
  },
  {
   "cell_type": "code",
   "execution_count": 24,
   "metadata": {},
   "outputs": [],
   "source": [
    "data_final.to_csv(\"model_themes.csv\",sep=\"\\t\",header=False,index=False)"
   ]
  },
  {
   "cell_type": "code",
   "execution_count": 30,
   "metadata": {},
   "outputs": [],
   "source": []
  }
 ],
 "metadata": {
  "kernelspec": {
   "display_name": "Python 3",
   "language": "python",
   "name": "python3"
  },
  "language_info": {
   "codemirror_mode": {
    "name": "ipython",
    "version": 3
   },
   "file_extension": ".py",
   "mimetype": "text/x-python",
   "name": "python",
   "nbconvert_exporter": "python",
   "pygments_lexer": "ipython3",
   "version": "3.8.3"
  }
 },
 "nbformat": 4,
 "nbformat_minor": 4
}
